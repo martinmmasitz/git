{
  "nbformat": 4,
  "nbformat_minor": 0,
  "metadata": {
    "colab": {
      "private_outputs": true,
      "provenance": [],
      "gpuType": "T4",
      "include_colab_link": true
    },
    "kernelspec": {
      "name": "python3",
      "display_name": "Python 3"
    },
    "language_info": {
      "name": "python"
    },
    "accelerator": "GPU"
  },
  "cells": [
    {
      "cell_type": "markdown",
      "metadata": {
        "id": "view-in-github",
        "colab_type": "text"
      },
      "source": [
        "<a href=\"https://colab.research.google.com/github/martinmmasitz/git/blob/master/Render.ipynb\" target=\"_parent\"><img src=\"https://colab.research.google.com/assets/colab-badge.svg\" alt=\"Open In Colab\"/></a>"
      ]
    },
    {
      "cell_type": "code",
      "source": [
        "# @title Memory Information\n",
        "\n",
        "import psutil\n",
        "from IPython.display import HTML, display\n",
        "\n",
        "def get_size(bytes, suffix=\"B\"):\n",
        "    factor = 1024\n",
        "    for unit in [\"\", \"K\", \"M\", \"G\", \"T\", \"P\"]:\n",
        "        if bytes < factor:\n",
        "            return f\"{bytes:.2f}{unit}{suffix}\"\n",
        "        bytes /= factor\n",
        "\n",
        "# Retrieve memory information\n",
        "svmem = psutil.virtual_memory()\n",
        "total = get_size(svmem.total)\n",
        "available = get_size(svmem.available)\n",
        "used = get_size(svmem.used)\n",
        "percentage = svmem.percent\n",
        "\n",
        "# Create an HTML table with memory information (Rounded Corners variant with dark theme)\n",
        "table_content = f\"\"\"\n",
        "<style>\n",
        "    table {{\n",
        "        width: 300px;\n",
        "        border-collapse: collapse;\n",
        "        font-family: Arial, sans-serif;\n",
        "        margin-top: 20px;\n",
        "        border-radius: 10px;\n",
        "        overflow: hidden;\n",
        "        background-color: #333;\n",
        "        color: #fff;\n",
        "    }}\n",
        "    th, td {{\n",
        "        padding: 10px;\n",
        "        text-align: left;\n",
        "        border-bottom: 1px solid #555;\n",
        "    }}\n",
        "    th {{\n",
        "        background-color: #3498db;\n",
        "        border-bottom: 2px solid #555;\n",
        "    }}\n",
        "</style>\n",
        "<table>\n",
        "    <tr>\n",
        "        <th colspan=\"2\">Memory Information</th>\n",
        "    </tr>\n",
        "    <tr>\n",
        "        <th>Total</th>\n",
        "        <td>{total}</td>\n",
        "    </tr>\n",
        "    <tr>\n",
        "        <th>Available</th>\n",
        "        <td>{available}</td>\n",
        "    </tr>\n",
        "    <tr>\n",
        "        <th>Used</th>\n",
        "        <td>{used}</td>\n",
        "    </tr>\n",
        "    <tr>\n",
        "        <th>Percentage</th>\n",
        "        <td>{percentage}%</td>\n",
        "    </tr>\n",
        "</table>\n",
        "\"\"\"\n",
        "\n",
        "# Display the table\n",
        "display(HTML(table_content))\n"
      ],
      "metadata": {
        "cellView": "form",
        "id": "305ktPlxEpPR"
      },
      "execution_count": null,
      "outputs": []
    },
    {
      "cell_type": "code",
      "source": [
        "! nvidia-smi"
      ],
      "metadata": {
        "id": "5j7Gdu8eImWt"
      },
      "execution_count": null,
      "outputs": []
    },
    {
      "cell_type": "code",
      "source": [
        "#@title Select Blender Version{ display-mode: \"form\" }\n",
        "Blender_Version = 'Blender 3.6' #@param [\"Blender 2.79b\", \"Blender 2.80\", \"Blender 2.81\", \"Blender 2.82a\", \"Blender 2.83.0\", \"Blender 2.83.3\", \"Blender 2.90alpha (expiremental)\", \"Blender 2.90\",\"Blender 2.91\",\"Blender 2.92\",\"Blender 2.93\",\"Blender 3.0\",\"Blender 3.1\",\"Blender 3.2\",\"Blender 3.3\",\"Blender 3.4\",\"Blender 3.5\",\"Blender 3.6\"]\n",
        "\n",
        "\n",
        "def path_leaf(path):\n",
        "  import ntpath\n",
        "  head, tail = ntpath.split(path)\n",
        "  return tail or ntpath.basename(head)\n",
        "\n",
        "dl_link = {\n",
        "    \"Blender 2.79b\": \"https://download.blender.org/release/Blender2.79/blender-2.79b-linux-glibc219-x86_64.tar.bz2\",\n",
        "    \"Blender 2.80\": \"https://download.blender.org/release/Blender2.80/blender-2.80-linux-glibc217-x86_64.tar.bz2\",\n",
        "    \"Blender 2.81\": \"https://download.blender.org/release/Blender2.81/blender-2.81-linux-glibc217-x86_64.tar.bz2\",\n",
        "    \"Blender 2.82a\": \"https://download.blender.org/release/Blender2.82/blender-2.82a-linux64.tar.xz\",\n",
        "    \"Blender 2.83.0\": \"https://download.blender.org/release/Blender2.83/blender-2.83.0-linux64.tar.xz\",\n",
        "    \"Blender 2.83.3\": \"https://download.blender.org/release/Blender2.83/blender-2.83.3-linux64.tar.xz\",\n",
        "    \"Blender 2.90alpha (expiremental)\": \"https://blender.community/5edccfe69c122126f183e2ad/download/5ef635439c12214ca244be6b\",\n",
        "    \"Blender 2.90\" : \"https://download.blender.org/release/Blender2.90/blender-2.90.0-linux64.tar.xz\",\n",
        "    \"Blender 2.91\" : \"https://download.blender.org/release/Blender2.91/blender-2.91.0-linux64.tar.xz\",\n",
        "    \"Blender 2.92\" : \"https://download.blender.org/release/Blender2.92/blender-2.92.0-linux64.tar.xz\",\n",
        "    \"Blender 2.93\" : \"https://download.blender.org/release/Blender2.93/blender-2.93.0-linux64.tar.xz\",\n",
        "    \"Blender 3.0\" : \"https://download.blender.org/release/Blender3.0/blender-3.0.0-linux-x64.tar.xz\",\n",
        "    \"Blender 3.1\" : \"https://download.blender.org/release/Blender3.1/blender-3.1.0-linux-x64.tar.xz\",\n",
        "    \"Blender 3.2\" : \"https://download.blender.org/release/Blender3.2/blender-3.2.0-linux-x64.tar.xz\",\n",
        "    \"Blender 3.3\" : \"https://download.blender.org/release/Blender3.3/blender-3.3.0-linux-x64.tar.xz\",\n",
        "    \"Blender 3.4\" : \"https://download.blender.org/release/Blender3.4/blender-3.4.0-linux-x64.tar.xz\",\n",
        "    \"Blender 3.5\" : \"https://download.blender.org/release/Blender3.5/blender-3.5.0-linux-x64.tar.xz\",\n",
        "    \"Blender 3.6\" : \"https://download.blender.org/release/Blender3.6/blender-3.6.0-linux-x64.tar.xz\",\n",
        "}\n",
        "\n",
        "dl = dl_link[Blender_Version]\n",
        "filename = path_leaf(dl)\n",
        "\n",
        "!wget -nc $dl\n",
        "!mkdir ./blender && tar xf $filename -C ./blender --strip-components 1\n",
        "\n",
        "!apt install libboost-all-dev\n",
        "!apt install libgl1-mesa-dev\n",
        "!apt install libglu1-mesa libsm-dev\n",
        "\n",
        "data = \"import re\\n\"+\\\n",
        "    \"import bpy\\n\"+\\\n",
        "    \"scene = bpy.context.scene\\n\"+\\\n",
        "    \"scene.cycles.device = 'GPU'\\n\"+\\\n",
        "    \"prefs = bpy.context.preferences\\n\"+\\\n",
        "    \"prefs.addons['cycles'].preferences.get_devices()\\n\"+\\\n",
        "    \"cprefs = prefs.addons['cycles'].preferences\\n\"+\\\n",
        "    \"print(cprefs)\\n\"+\\\n",
        "    \"# Attempt to set GPU device types if available\\n\"+\\\n",
        "    \"for compute_device_type in ('CUDA', 'OPENCL', 'NONE'):\\n\"+\\\n",
        "    \"    try:\\n\"+\\\n",
        "    \"        cprefs.compute_device_type = compute_device_type\\n\"+\\\n",
        "    \"        print('Device found',compute_device_type)\\n\"+\\\n",
        "    \"        break\\n\"+\\\n",
        "    \"    except TypeError:\\n\"+\\\n",
        "    \"        pass\\n\"+\\\n",
        "    \"# Enable all CPU and GPU devices\\n\"+\\\n",
        "    \"for device in cprefs.devices:\\n\"+\\\n",
        "    \"    if not re.match('intel', device.name, re.I):\\n\"+\\\n",
        "    \"        print('Activating',device)\\n\"+\\\n",
        "    \"        device.use = True\\n\"\n",
        "\n",
        "with open('setgpu.py', 'w') as f:\n",
        "    f.write(data)\n"
      ],
      "metadata": {
        "id": "4mFyLhIkQQP7"
      },
      "execution_count": null,
      "outputs": []
    },
    {
      "cell_type": "markdown",
      "source": [
        "Mount Drive"
      ],
      "metadata": {
        "id": "0ZxQGKgfTrKH"
      }
    },
    {
      "cell_type": "code",
      "source": [
        "from google.colab import drive\n",
        "drive.mount('/gdrive')"
      ],
      "metadata": {
        "id": "e35cR94EURhl"
      },
      "execution_count": null,
      "outputs": []
    },
    {
      "cell_type": "markdown",
      "source": [
        "Connect Path"
      ],
      "metadata": {
        "id": "aKSG1gxSUTeB"
      }
    },
    {
      "cell_type": "code",
      "source": [
        "from google.colab import drive\n",
        "drive.mount('/content/drive')"
      ],
      "metadata": {
        "id": "15sYFz6IUS-r"
      },
      "execution_count": null,
      "outputs": []
    },
    {
      "cell_type": "markdown",
      "source": [
        "Render Project"
      ],
      "metadata": {
        "id": "lwZT9YnNgOun"
      }
    },
    {
      "cell_type": "code",
      "source": [
        "!sudo ./blender/blender -P setgpu.py -b '/content/drive/My Drive/Blender/Projects/your_name_scene.blend' -o '/content/drive/My Drive/Blender/Projects/Render' -s 1 -e 3 -a"
      ],
      "metadata": {
        "id": "x2UhsIO4UhG1"
      },
      "execution_count": null,
      "outputs": []
    }
  ]
}